ipython nbconvert frequency_response.ipynb --to PDF
