{
 "cells": [
  {
   "cell_type": "markdown",
   "metadata": {},
   "source": [
    "# Notes on AC Systems, Filters, and Frequency Response"
   ]
  },
  {
   "cell_type": "markdown",
   "metadata": {},
   "source": [
    "Maximum Power Transfer for AC\n",
    "- [how the load impedance impacts power transfer](maximum_power_transfer_ac.ipynb)\n",
    "\n",
    "Filters and Frequency Response\n",
    "- [ RC circuits and intro to filter concepts](rc_filter_intro.ipynb)\n",
    "- [standard filters, their equations and Bode Plots](filters_bode_plot.ipynb)\n",
    "- [in class exercise: intro to filters](in_class_bode_filters.ipynb)\n",
    "- [low pass filters and filter order](low_pass_filters_and_filter_order.ipynb)\n",
    "- [frequency dependence of impedance combinations](Impedance_Combinations.ipynb)\n",
    "\n",
    "Resonance\n",
    "- [using resonance to shape response](adding_resonance_for_flat_response.ipynb)\n",
    "\n",
    "\n"
   ]
  },
  {
   "cell_type": "code",
   "execution_count": null,
   "metadata": {
    "collapsed": true
   },
   "outputs": [],
   "source": []
  }
 ],
 "metadata": {
  "kernelspec": {
   "display_name": "Python 3",
   "language": "python",
   "name": "python3"
  },
  "language_info": {
   "codemirror_mode": {
    "name": "ipython",
    "version": 3
   },
   "file_extension": ".py",
   "mimetype": "text/x-python",
   "name": "python",
   "nbconvert_exporter": "python",
   "pygments_lexer": "ipython3",
   "version": "3.4.3"
  }
 },
 "nbformat": 4,
 "nbformat_minor": 0
}
